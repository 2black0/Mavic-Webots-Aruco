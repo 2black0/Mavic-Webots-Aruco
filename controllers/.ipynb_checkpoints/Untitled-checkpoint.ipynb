{
 "cells": [
  {
   "cell_type": "code",
   "execution_count": 1,
   "id": "30bab268-961c-4b1f-9abe-d4d993ae7ebf",
   "metadata": {},
   "outputs": [],
   "source": [
    "import numpy as np"
   ]
  },
  {
   "cell_type": "code",
   "execution_count": 2,
   "id": "ef485e80-045c-4be8-b02b-9722d76c6fec",
   "metadata": {},
   "outputs": [],
   "source": [
    "def convert_to_attitude(x_error, y_error, yaw):\n",
    "    c, s = np.cos(yaw), np.sin(yaw)\n",
    "    R = np.array(((c, -s), (s, c)))\n",
    "    converted = np.matmul([x_error, y_error], R)\n",
    "    return converted"
   ]
  },
  {
   "cell_type": "code",
   "execution_count": 22,
   "id": "f46ab60d-52d8-46c6-90c4-cbb8ae7ed9aa",
   "metadata": {},
   "outputs": [],
   "source": [
    "pitch_error, roll_error = convert_to_attitude(3.5,0,3.14)"
   ]
  },
  {
   "cell_type": "code",
   "execution_count": 23,
   "id": "76194935-eef7-4db1-957f-268a59c9d5c6",
   "metadata": {},
   "outputs": [
    {
     "data": {
      "text/plain": [
       "-3.499995561046388"
      ]
     },
     "execution_count": 23,
     "metadata": {},
     "output_type": "execute_result"
    }
   ],
   "source": [
    "pitch_error"
   ]
  },
  {
   "cell_type": "code",
   "execution_count": 24,
   "id": "eb241c34-4727-4868-8e30-f2cf75e4ae72",
   "metadata": {},
   "outputs": [
    {
     "data": {
      "text/plain": [
       "-0.005574285207703899"
      ]
     },
     "execution_count": 24,
     "metadata": {},
     "output_type": "execute_result"
    }
   ],
   "source": [
    "roll_error"
   ]
  },
  {
   "cell_type": "code",
   "execution_count": null,
   "id": "1a16defb-72b4-4ef3-9112-f8829719e5de",
   "metadata": {},
   "outputs": [],
   "source": []
  }
 ],
 "metadata": {
  "kernelspec": {
   "display_name": "Python 3 (ipykernel)",
   "language": "python",
   "name": "python3"
  },
  "language_info": {
   "codemirror_mode": {
    "name": "ipython",
    "version": 3
   },
   "file_extension": ".py",
   "mimetype": "text/x-python",
   "name": "python",
   "nbconvert_exporter": "python",
   "pygments_lexer": "ipython3",
   "version": "3.9.0"
  }
 },
 "nbformat": 4,
 "nbformat_minor": 5
}
